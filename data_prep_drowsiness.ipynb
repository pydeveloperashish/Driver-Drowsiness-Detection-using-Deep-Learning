{
 "cells": [
  {
   "cell_type": "code",
   "execution_count": 1,
   "metadata": {},
   "outputs": [],
   "source": [
    "import os\n",
    "import glob\n",
    "import shutil\n",
    "import random\n",
    "from tqdm import tqdm"
   ]
  },
  {
   "cell_type": "code",
   "execution_count": 2,
   "metadata": {},
   "outputs": [
    {
     "name": "stderr",
     "output_type": "stream",
     "text": [
      "0it [00:00, ?it/s]\n",
      "100%|██████████| 681/681 [00:01<00:00, 371.65it/s] \n",
      "100%|██████████| 522/522 [00:00<00:00, 1173.59it/s]\n",
      "100%|██████████| 832/832 [00:00<00:00, 1119.53it/s]\n",
      "100%|██████████| 1012/1012 [00:00<00:00, 1207.62it/s]\n",
      "100%|██████████| 399/399 [00:00<00:00, 773.98it/s]\n",
      "100%|██████████| 642/642 [00:00<00:00, 824.22it/s] \n",
      "100%|██████████| 739/739 [00:00<00:00, 1036.91it/s]\n",
      "100%|██████████| 1502/1502 [00:01<00:00, 1076.13it/s]\n",
      "100%|██████████| 6162/6162 [00:08<00:00, 707.05it/s] \n",
      "100%|██████████| 679/679 [00:00<00:00, 879.79it/s] \n",
      "100%|██████████| 704/704 [00:00<00:00, 1362.01it/s]\n",
      "100%|██████████| 3605/3605 [00:03<00:00, 1145.38it/s]\n",
      "100%|██████████| 1132/1132 [00:01<00:00, 841.32it/s] \n",
      "100%|██████████| 6193/6193 [00:05<00:00, 1111.98it/s]\n",
      "100%|██████████| 1648/1648 [00:01<00:00, 1147.46it/s]\n",
      "100%|██████████| 1889/1889 [00:08<00:00, 224.13it/s]\n",
      "100%|██████████| 736/736 [00:00<00:00, 1064.67it/s]\n",
      "100%|██████████| 10257/10257 [00:07<00:00, 1323.69it/s]\n",
      "100%|██████████| 1393/1393 [00:00<00:00, 1394.60it/s]\n",
      "100%|██████████| 387/387 [00:00<00:00, 1064.70it/s]\n",
      "100%|██████████| 752/752 [00:00<00:00, 1269.94it/s]\n",
      "100%|██████████| 1648/1648 [00:01<00:00, 1539.46it/s]\n",
      "100%|██████████| 1738/1738 [00:04<00:00, 428.01it/s] \n",
      "100%|██████████| 8884/8884 [00:10<00:00, 882.37it/s] \n",
      "100%|██████████| 1069/1069 [00:01<00:00, 1009.81it/s]\n",
      "100%|██████████| 6175/6175 [00:04<00:00, 1395.85it/s]\n",
      "100%|██████████| 1246/1246 [00:01<00:00, 1020.66it/s]\n",
      "100%|██████████| 1114/1114 [00:00<00:00, 1120.48it/s]\n",
      "100%|██████████| 382/382 [00:00<00:00, 845.03it/s]\n",
      "100%|██████████| 4410/4410 [00:04<00:00, 942.30it/s] \n",
      "100%|██████████| 3242/3242 [00:03<00:00, 930.25it/s] \n",
      "100%|██████████| 8728/8728 [00:07<00:00, 1148.81it/s]\n",
      "100%|██████████| 736/736 [00:00<00:00, 988.15it/s] \n",
      "100%|██████████| 665/665 [00:00<00:00, 1435.48it/s]\n",
      "100%|██████████| 987/987 [00:00<00:00, 1477.41it/s]\n",
      "100%|██████████| 1384/1384 [00:01<00:00, 1250.77it/s]\n",
      "100%|██████████| 624/624 [00:00<00:00, 1259.39it/s]\n"
     ]
    }
   ],
   "source": [
    "raw_data = '/home/delixus/Desktop/drowsiness_detection/mrlEyes_2018_01'\n",
    "for dirpath, dirname, filename in os.walk(raw_data):\n",
    "    for file in tqdm([f for f in filename if f.endswith('.png')]):\n",
    "        if file.split('_')[4] == '0':\n",
    "            path='/home/delixus/Desktop/drowsiness_detection/data/train/closed'\n",
    "            if not os.path.exists(path):\n",
    "                os.makedirs(path)\n",
    "            shutil.copy(src=dirpath + '/' + file, dst= path)\n",
    "        elif file.split('_')[4] == '1':\n",
    "            path='/home/delixus/Desktop/drowsiness_detection/data/train/open'\n",
    "            if not os.path.exists(path):\n",
    "                os.makedirs(path)\n",
    "            shutil.copy(src=dirpath + '/' + file, dst= path)        "
   ]
  },
  {
   "cell_type": "code",
   "execution_count": 5,
   "metadata": {},
   "outputs": [],
   "source": [
    "def create_test_closed(source, destination, percent):\n",
    "    '''\n",
    "    divides closed eyes images into given percent and moves from\n",
    "    source to destination.\n",
    "    \n",
    "    Arguments:\n",
    "    source(path): path of source directory\n",
    "    destination(path): path of destination directory\n",
    "    percent(float): percent of data to be divided(range: 0 to 1)\n",
    "    '''\n",
    "    path, dirs, files_closed = next(os.walk(source))\n",
    "    file_count_closed = len(files_closed)\n",
    "    percentage = file_count_closed * percent\n",
    "    to_move = random.sample(glob.glob(source + \"/*.png\"), int(percentage))\n",
    "\n",
    "    for f in enumerate(to_move):\n",
    "        if not os.path.exists(destination):\n",
    "            os.makedirs(destination)\n",
    "        shutil.move(f[1], destination)\n",
    "    print(f'moved {int(percentage)} images to the destination successfully.')    "
   ]
  },
  {
   "cell_type": "code",
   "execution_count": 6,
   "metadata": {},
   "outputs": [],
   "source": [
    "def create_test_open(source, destination, percent):\n",
    "    '''\n",
    "    divides open eyes images into given percent and moves from\n",
    "    source to destination.\n",
    "    \n",
    "    Arguments:\n",
    "    source(path): path of source directory\n",
    "    destination(path): path of destination directory\n",
    "    percent(float): percent of data to be divided(range: 0 to 1)\n",
    "    '''\n",
    "    path, dirs, files_open = next(os.walk(source))\n",
    "    file_count_open = len(files_open)\n",
    "    percentage = file_count_open * percent\n",
    "    to_move = random.sample(glob.glob(source + \"/*.png\"), int(percentage))\n",
    "\n",
    "    for f in enumerate(to_move):\n",
    "        if not os.path.exists(destination):\n",
    "            os.makedirs(destination)\n",
    "        shutil.move(f[1], destination)\n",
    "    print(f'moved {int(percentage)} images to the destination successfully.')"
   ]
  },
  {
   "cell_type": "code",
   "execution_count": 7,
   "metadata": {},
   "outputs": [
    {
     "name": "stdout",
     "output_type": "stream",
     "text": [
      "moved 8389 images to the destination successfully.\n"
     ]
    }
   ],
   "source": [
    "create_test_closed('/home/delixus/Desktop/drowsiness_detection/data/train/closed', \n",
    "                    '/home/delixus/Desktop/drowsiness_detection/data/test/closed', \n",
    "                    0.2)"
   ]
  },
  {
   "cell_type": "code",
   "execution_count": 8,
   "metadata": {},
   "outputs": [
    {
     "name": "stdout",
     "output_type": "stream",
     "text": [
      "moved 8590 images to the destination successfully.\n"
     ]
    }
   ],
   "source": [
    "create_test_open('/home/delixus/Desktop/drowsiness_detection/data/train/open', \n",
    "                    '/home/delixus/Desktop/drowsiness_detection/data/test/open', \n",
    "                    0.2)"
   ]
  },
  {
   "cell_type": "code",
   "execution_count": null,
   "metadata": {},
   "outputs": [],
   "source": []
  }
 ],
 "metadata": {
  "kernelspec": {
   "display_name": "Python 3",
   "language": "python",
   "name": "python3"
  },
  "language_info": {
   "codemirror_mode": {
    "name": "ipython",
    "version": 3
   },
   "file_extension": ".py",
   "mimetype": "text/x-python",
   "name": "python",
   "nbconvert_exporter": "python",
   "pygments_lexer": "ipython3",
   "version": "3.6.9"
  }
 },
 "nbformat": 4,
 "nbformat_minor": 4
}
